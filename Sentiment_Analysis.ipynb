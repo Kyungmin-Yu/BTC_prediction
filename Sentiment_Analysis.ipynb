{
  "nbformat": 4,
  "nbformat_minor": 0,
  "metadata": {
    "colab": {
      "name": "Sentiment_Analysis",
      "provenance": [],
      "collapsed_sections": [],
      "authorship_tag": "ABX9TyM9dEQoqwsE8COFIutEI+Iy",
      "include_colab_link": true
    },
    "kernelspec": {
      "name": "python3",
      "display_name": "Python 3"
    },
    "language_info": {
      "name": "python"
    }
  },
  "cells": [
    {
      "cell_type": "markdown",
      "metadata": {
        "id": "view-in-github",
        "colab_type": "text"
      },
      "source": [
        "<a href=\"https://colab.research.google.com/github/Kyungmin-Yu/BTC_prediction/blob/main/Sentiment_Analysis.ipynb\" target=\"_parent\"><img src=\"https://colab.research.google.com/assets/colab-badge.svg\" alt=\"Open In Colab\"/></a>"
      ]
    },
    {
      "cell_type": "code",
      "metadata": {
        "id": "Obz_luDGXicI"
      },
      "source": [
        "## mecab 설치\n",
        "!set -x \\\n",
        "&& pip install konlpy \\\n",
        "&& curl -s https://raw.githubusercontent.com/konlpy/konlpy/master/scripts/mecab.sh | bash -x\n"
      ],
      "execution_count": null,
      "outputs": []
    },
    {
      "cell_type": "code",
      "metadata": {
        "id": "sOm-Wjxl3X2S"
      },
      "source": [
        "import pandas as pd\n",
        "import numpy as np"
      ],
      "execution_count": null,
      "outputs": []
    },
    {
      "cell_type": "code",
      "metadata": {
        "colab": {
          "base_uri": "https://localhost:8080/"
        },
        "id": "Rzrjl9kx3mpk",
        "outputId": "1457e993-2087-4866-ff59-ceea1375a0aa"
      },
      "source": [
        "from google.colab import drive\n",
        "drive.mount('/content/drive')"
      ],
      "execution_count": null,
      "outputs": [
        {
          "output_type": "stream",
          "text": [
            "Mounted at /content/drive\n"
          ],
          "name": "stdout"
        }
      ]
    },
    {
      "cell_type": "code",
      "metadata": {
        "id": "clTo2e7C3sKI"
      },
      "source": [
        "data = pd.read_csv('/content/drive/MyDrive/data/final_title.csv', encoding='CP949')"
      ],
      "execution_count": null,
      "outputs": []
    },
    {
      "cell_type": "code",
      "metadata": {
        "id": "3hXWvKhFp-Sp"
      },
      "source": [
        "data = data.loc[(data['date']>'2017-12-31'),]"
      ],
      "execution_count": null,
      "outputs": []
    },
    {
      "cell_type": "code",
      "metadata": {
        "id": "pl2mvKPE4TlY"
      },
      "source": [
        "date_list = np.unique(data['date']).tolist()"
      ],
      "execution_count": null,
      "outputs": []
    },
    {
      "cell_type": "code",
      "metadata": {
        "id": "o64bjRyN6uQJ"
      },
      "source": [
        "document_list = []\n",
        "for i in range(len(date_list)):\n",
        "  date = date_list[i]\n",
        "  titles = data.loc[data.date==date,'title'].tolist()\n",
        "  document = \" \".join(titles)\n",
        "  document_list.append(document)"
      ],
      "execution_count": null,
      "outputs": []
    },
    {
      "cell_type": "code",
      "metadata": {
        "id": "it2Q-kmg73mQ"
      },
      "source": [
        "import re\n",
        "final_document=[]\n",
        "for n in document_list:\n",
        "    hangul1 = re.compile('[^ ㄱ-ㅣ가-힣]+')\n",
        "    hangul2 = hangul1.sub('', n)\n",
        "    hangul3 = hangul2.replace(\"로 변경시 확장됨\", \"\")\n",
        "    result = hangul3.replace(r\"  \", \" \")\n",
        "    final_document.append(result)"
      ],
      "execution_count": null,
      "outputs": []
    },
    {
      "cell_type": "code",
      "metadata": {
        "id": "gFDBRWFn8bWK"
      },
      "source": [
        "## tokenizer 함수\n",
        "from konlpy.tag import Mecab\n",
        "def tokenizer(raw, pos=[\"NNG\", \"NNB\", \"VV\", \"VA\", \"VX\", \"VCP\", \"VCN\", \"IC\", \"NNP\", \"EF\"]):\n",
        "  m = Mecab()\n",
        "  return [word for word, tag in m.pos(raw) if len(word) > 1 and tag in pos ]"
      ],
      "execution_count": null,
      "outputs": []
    },
    {
      "cell_type": "code",
      "metadata": {
        "id": "5vgK_T2s8o-x"
      },
      "source": [
        "from sklearn.feature_extraction.text import TfidfVectorizer\n",
        "tfidf_vect = TfidfVectorizer(tokenizer=tokenizer, max_features=300)\n",
        "dtm = tfidf_vect.fit_transform(final_document)"
      ],
      "execution_count": null,
      "outputs": []
    },
    {
      "cell_type": "code",
      "metadata": {
        "id": "iKogMKLOCEdv"
      },
      "source": [
        "btc_data = pd.read_csv('/content/drive/MyDrive/data/final_data.csv')"
      ],
      "execution_count": null,
      "outputs": []
    },
    {
      "cell_type": "code",
      "metadata": {
        "id": "vomObqqCf4oR"
      },
      "source": [
        "close = btc_data.loc[(btc_data['date']>'2017-12-31')&(btc_data['date']<'2021-05-01'),['btc', 'date']]"
      ],
      "execution_count": null,
      "outputs": []
    },
    {
      "cell_type": "code",
      "metadata": {
        "id": "sh1NcXhlQm3l"
      },
      "source": [
        "close['yesterday'] = close['btc'].shift(1)"
      ],
      "execution_count": null,
      "outputs": []
    },
    {
      "cell_type": "code",
      "metadata": {
        "id": "-O7esJiNQz-8"
      },
      "source": [
        "close['diff'] = close['btc'] - close['yesterday']"
      ],
      "execution_count": null,
      "outputs": []
    },
    {
      "cell_type": "code",
      "metadata": {
        "id": "AVc4zI5kQyW3"
      },
      "source": [
        "close = close.assign(\n",
        "    UP = lambda df: df['diff'].map(lambda diff: 1 if diff>0 else 0)\n",
        ")"
      ],
      "execution_count": null,
      "outputs": []
    },
    {
      "cell_type": "code",
      "metadata": {
        "id": "jZL2BpQLY7AA"
      },
      "source": [
        "up_idx = close[close['UP']>0].index.tolist()\n",
        "down_idx = close[close['UP']==0].index.tolist()"
      ],
      "execution_count": null,
      "outputs": []
    },
    {
      "cell_type": "code",
      "metadata": {
        "id": "MkOf9c-EdCtN"
      },
      "source": [
        "y = close['UP'][1:]\n",
        "X = dtm[:1215,:].toarray()"
      ],
      "execution_count": null,
      "outputs": []
    },
    {
      "cell_type": "code",
      "metadata": {
        "id": "ViY2A0lRUKaq"
      },
      "source": [
        "from sklearn.linear_model import Ridge\n",
        "model = Ridge(solver=\"sag\", fit_intercept=True, random_state=369)\n",
        "model.fit(X,y)\n",
        "beta = list(model.coef_)"
      ],
      "execution_count": null,
      "outputs": []
    },
    {
      "cell_type": "code",
      "metadata": {
        "id": "tseCOoaQXUKm"
      },
      "source": [
        "k = list(tfidf_vect.vocabulary_.keys())\n",
        "sentiment_dict = dict(zip(k, beta))"
      ],
      "execution_count": null,
      "outputs": []
    },
    {
      "cell_type": "code",
      "metadata": {
        "id": "9Kd1vu9TUy47"
      },
      "source": [
        "idx_list = []\n",
        "for i in range(dtm.toarray().shape[0]):\n",
        "  idx_list.append(list(dtm.toarray()[i]>0))"
      ],
      "execution_count": null,
      "outputs": []
    },
    {
      "cell_type": "code",
      "metadata": {
        "id": "bJCeEZCRenEl"
      },
      "source": [
        "sentiment_score = []\n",
        "for k in range(dtm.toarray().shape[0]):\n",
        "  score = np.sum([beta[i] for i in [i for i,idx in enumerate(idx_list[k]) if idx==True]])\n",
        "  sentiment_score.append(score)"
      ],
      "execution_count": null,
      "outputs": []
    },
    {
      "cell_type": "code",
      "metadata": {
        "id": "YVnyYkhPmDhs"
      },
      "source": [
        "btc_data['sentiment'] = sentiment_score\n",
        "btc_data.to_csv('/content/drive/MyDrive/data/real_final_data2.csv', index=False)"
      ],
      "execution_count": null,
      "outputs": []
    }
  ]
}